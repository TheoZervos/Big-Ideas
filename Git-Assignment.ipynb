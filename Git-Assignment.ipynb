{
 "cells": [
  {
   "cell_type": "code",
   "execution_count": 1,
   "metadata": {},
   "outputs": [
    {
     "name": "stdin",
     "output_type": "stream",
     "text": [
      "What is your name? Balazs\n",
      "What is your favorite number? 5\n"
     ]
    },
    {
     "name": "stdout",
     "output_type": "stream",
     "text": [
      "Hello, Balazs! I love the number 5 too!\n"
     ]
    }
   ],
   "source": [
    "name = input(\"What is your name?\")\n",
    "num = input(\"What is your favorite number?\")\n",
    "\n",
    "print(\"Hello, \" + name + \"! I love the number \" + num + \" too!\")\n",
    "print(\"If you can read this, we got credit\")"
   ]
  },
  {
   "cell_type": "code",
   "execution_count": 4,
   "metadata": {},
   "outputs": [
    {
     "name": "stdin",
     "output_type": "stream",
     "text": [
      "enter a number to be averaged 4\n",
      "enter a number to be averaged 4\n",
      "enter a number to be averaged 4\n",
      "enter a number to be averaged 4\n",
      "enter a number to be averaged 4\n"
     ]
    },
    {
     "name": "stdout",
     "output_type": "stream",
     "text": [
      "average: 4.0\n"
     ]
    }
   ],
   "source": [
    "avg = []\n",
    "for i in range(5):\n",
    "    num = input(\"enter a number to be averaged\")\n",
    "    avg.append(int(num))\n",
    "print(\"average: \" + str(sum(avg)/len(avg)))"
   ]
  },
  {
   "cell_type": "code",
   "execution_count": null,
   "metadata": {},
   "outputs": [],
   "source": []
  }
 ],
 "metadata": {
  "kernelspec": {
   "display_name": "Python 3",
   "language": "python",
   "name": "python3"
  },
  "language_info": {
   "codemirror_mode": {
    "name": "ipython",
    "version": 3
   },
   "file_extension": ".py",
   "mimetype": "text/x-python",
   "name": "python",
   "nbconvert_exporter": "python",
   "pygments_lexer": "ipython3",
   "version": "3.8.3"
  }
 },
 "nbformat": 4,
 "nbformat_minor": 4
}
